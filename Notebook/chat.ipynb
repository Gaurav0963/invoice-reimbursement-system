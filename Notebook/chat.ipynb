{
 "cells": [
  {
   "cell_type": "code",
   "execution_count": null,
   "id": "f9dacd01",
   "metadata": {},
   "outputs": [],
   "source": [
    "import os\n",
    "import getpass\n",
    "from dotenv import load_dotenv\n",
    "from langchain import hub\n",
    "from langgraph.graph import START, END, StateGraph, MessagesState\n",
    "from langchain.chat_models import init_chat_model\n",
    "from langchain_core.tools import tool\n",
    "from langchain_core.messages import SystemMessage\n",
    "from langgraph.prebuilt import ToolNode, tools_condition\n",
    "from langchain_huggingface import HuggingFaceEmbeddings\n",
    "from langchain_chroma import Chroma\n",
    "from typing import List\n",
    "from langchain_core.documents import Document"
   ]
  },
  {
   "cell_type": "code",
   "execution_count": null,
   "id": "d1abec92",
   "metadata": {},
   "outputs": [],
   "source": [
    "load_dotenv()\n",
    "\n",
    "class Config:\n",
    "    GROQ_API_KEY = os.getenv(\"GROQ_API_KEY\") or getpass.getpass(\"Groq API Key: \")\n",
    "    FAST_API_URL = os.getenv(\"API_URL\") or getpass.getpass(\"FastAPI URL: \")\n",
    "    INDEX_NAME = \"invoice-analysis\"\n",
    "    EMBEDDING_MODEL = \"sentence-transformers/all-mpnet-base-v2\"\n",
    "    LLM_MODEL = \"llama3-70b-8192\"\n",
    "    LLM_TEMPERATURE = 0.3\n",
    "    VECTOR_STORE_DIR = \"E:\\\\RAGbot\\\\vectorDB\"\n",
    "    DB_NAME = \"invoice_analysis_report\"\n",
    "\n",
    "config = Config()\n",
    "\n",
    "\n",
    "class VectorStore:\n",
    "    def __init__(self, db_path: str = config.VECTOR_STORE_DIR) -> None:\n",
    "        self.embeddings = HuggingFaceEmbeddings(model_name=config.EMBEDDING_MODEL)\n",
    "        self.vector_store = Chroma(\n",
    "            collection_name=config.DB_NAME,\n",
    "            embedding_function=self.embeddings,\n",
    "            persist_directory='E:\\\\RAGbot\\\\vectorDB'\n",
    "        )\n",
    "        \n",
    "    def similarity_search(self, query: str, k: int = 4) -> List[Document]:\n",
    "        \"\"\"Search for similar documents\"\"\"\n",
    "        return self.vector_store.similarity_search(query, k=k)\n",
    "    \n",
    "    def as_retriver(self):\n",
    "        return self.vector_store.as_retriever(search_type=\"mmr\", search_kwargs={\"k\": 1, \"fetch_k\": 5})\n",
    "        "
   ]
  },
  {
   "cell_type": "code",
   "execution_count": null,
   "id": "4239763a",
   "metadata": {},
   "outputs": [],
   "source": [
    "graph_builder = StateGraph(MessagesState)\n",
    "llm = init_chat_model(\"llama3-8b-8192\", model_provider=\"groq\")\n",
    "prompt = hub.pull(\"rlm/rag-prompt\")\n",
    "config = Config()\n",
    "vector_store = VectorStore()\n",
    "\n",
    "@tool(response_format=\"content_and_artifact\")\n",
    "def retrieve(query: str):\n",
    "    \"\"\"Retrieve information related to a query.\"\"\"\n",
    "    retrieved_docs = vector_store.similarity_search(query, k=2)\n",
    "    serialized = \"\\n\\n\".join(\n",
    "        (f\"Source: {doc.metadata}\\n\" f\"Content: {doc.page_content}\")\n",
    "        for doc in retrieved_docs\n",
    "    )\n",
    "    return serialized, retrieved_docs"
   ]
  },
  {
   "cell_type": "code",
   "execution_count": 30,
   "id": "d2bfef12",
   "metadata": {},
   "outputs": [],
   "source": [
    "# Step 1: Generate an AIMessage that may include a tool-call to be sent.\n",
    "def query_or_respond(state: MessagesState):\n",
    "    \"\"\"Generate tool call for retrieval or respond.\"\"\"\n",
    "    llm_with_tools = llm.bind_tools([retrieve])\n",
    "    response = llm_with_tools.invoke(state[\"messages\"])\n",
    "    # MessagesState appends messages to state instead of overwriting\n",
    "    return {\"messages\": [response]}\n",
    "\n",
    "\n",
    "# Step 2: Execute the retrieval.\n",
    "tools = ToolNode([retrieve])\n",
    "\n",
    "\n",
    "# Step 3: Generate a response using the retrieved content.\n",
    "def generate(state: MessagesState):\n",
    "    \"\"\"Generate answer.\"\"\"\n",
    "    # Get generated ToolMessages\n",
    "    recent_tool_messages = []\n",
    "    for message in reversed(state[\"messages\"]):\n",
    "        if message.type == \"tool\":\n",
    "            recent_tool_messages.append(message)\n",
    "        else:\n",
    "            break\n",
    "    tool_messages = recent_tool_messages[::-1]\n",
    "\n",
    "    # Format into prompt\n",
    "    docs_content = \"\\n\\n\".join(doc.content for doc in tool_messages)\n",
    "    system_message_content = (\n",
    "        \"You are an assistant for question-answering tasks. \"\n",
    "        \"Use the following pieces of retrieved context to answer \"\n",
    "        \"the question. If you don't know the answer, say that you \"\n",
    "        \"don't know. Use three sentences maximum and keep the \"\n",
    "        \"answer concise.\"\n",
    "        \"\\n\\n\"\n",
    "        f\"{docs_content}\"\n",
    "    )\n",
    "    conversation_messages = [\n",
    "        message\n",
    "        for message in state[\"messages\"]\n",
    "        if message.type in (\"human\", \"system\")\n",
    "        or (message.type == \"ai\" and not message.tool_calls)\n",
    "    ]\n",
    "    prompt = [SystemMessage(system_message_content)] + conversation_messages\n",
    "\n",
    "    # Run\n",
    "    response = llm.invoke(prompt)\n",
    "    return {\"messages\": [response]}"
   ]
  },
  {
   "cell_type": "code",
   "execution_count": 31,
   "id": "aea06b87",
   "metadata": {},
   "outputs": [],
   "source": [
    "graph_builder.add_node(query_or_respond)\n",
    "graph_builder.add_node(tools)\n",
    "graph_builder.add_node(generate)\n",
    "\n",
    "graph_builder.set_entry_point(\"query_or_respond\")\n",
    "graph_builder.add_conditional_edges(\n",
    "    \"query_or_respond\",\n",
    "    tools_condition,\n",
    "    {END: END, \"tools\": \"tools\"},\n",
    ")\n",
    "graph_builder.add_edge(\"tools\", \"generate\")\n",
    "graph_builder.add_edge(\"generate\", END)\n",
    "\n",
    "graph = graph_builder.compile()"
   ]
  },
  {
   "cell_type": "code",
   "execution_count": 32,
   "id": "7729d27b",
   "metadata": {},
   "outputs": [
    {
     "name": "stdout",
     "output_type": "stream",
     "text": [
      "================================\u001b[1m Human Message \u001b[0m=================================\n",
      "\n",
      "Hello, is Reetu is a Customer name\n",
      "==================================\u001b[1m Ai Message \u001b[0m==================================\n",
      "Tool Calls:\n",
      "  retrieve (6ddtsdvn4)\n",
      " Call ID: 6ddtsdvn4\n",
      "  Args:\n",
      "    query: Is Reetu a Customer name\n",
      "=================================\u001b[1m Tool Message \u001b[0m=================================\n",
      "Name: retrieve\n",
      "\n",
      "Source: {'status': 'accept', 'employee_name': 'Reetu', 'date': '10 Sep 2024', 'invoice_id': '397373', 'reason': 'The reimbursement request is in compliance with the policy guidelines. The total amount of ₹233 is within the approved limits for travel expenses, and the invoice is supported by the required documentation.'}\n",
      "Content: Invoice Content: Original Tax Invoice Driver Trip Invoice Sunil Service Tax Category: Renting of Cab Cab 2F A1341 Invoice ID 397373 Invoice Date 10 Sep 2024 Customer Name Reetu Mobile Number 8901233212 Pickup Address Rajaji Nagar Descri`ption A mount (₹) Ride F ee ₹ 187.46 T oll Convenience f ee ₹ 10 Airpor t Charges ₹ 0 CGST 9.00 % 17.77 SGST 9.00 % 17.77 Subt otal ₹ 233 T otal ₹ 233 Customer Ride F are, Status: accept, Reason: The reimbursement request is in compliance with the policy guidelines. The total amount of ₹233 is within the approved limits for travel expenses, and the invoice is supported by the required documentation.\n",
      "\n",
      "Source: {'invoice_id': '123335', 'date': '18Jun2024', 'reason': 'The reimbursement request is within the approved limits of ₹150 for daily office cabs as per policy clause 5.2.', 'employee_name': 'Rani', 'status': 'accept'}\n",
      "Content: Invoice Content: Original Tax Invoice Driver Trip Invoice Rohit Service Tax Category: Renting of Cab Cab 4KA1233 Invoice ID 123335 Invoice Date 18Jun 2024 Customer Name Rani Mobile Number 8901233212 Pickup Address #12,3r d Lay out Ramamur thy Nagar Description A mount (₹) Ride F ee ₹ 127.12 T oll Convenience f ee ₹ 0 Airpor t Charges ₹ 0 CGST 9.00 % 11.44 SGST 9.00 % 11.44 Subt otal ₹150 T otal ₹150 Customer Ride F are, Status: accept, Reason: The reimbursement request is within the approved limits of ₹150 for daily office cabs as per policy clause 5.2.\n",
      "==================================\u001b[1m Ai Message \u001b[0m==================================\n",
      "\n",
      "Yes, Reetu is a Customer name.\n"
     ]
    }
   ],
   "source": [
    "input_message = \"Hello, is Reetu is a Customer name\"\n",
    "\n",
    "for step in graph.stream(\n",
    "    {\"messages\": [{\"role\": \"user\", \"content\": input_message}]},\n",
    "    stream_mode=\"values\",):\n",
    "    step[\"messages\"][-1].pretty_print()"
   ]
  },
  {
   "cell_type": "code",
   "execution_count": 55,
   "id": "35f7e8b3",
   "metadata": {},
   "outputs": [],
   "source": [
    "metadata_filter ={}"
   ]
  },
  {
   "cell_type": "code",
   "execution_count": null,
   "id": "270e9da8",
   "metadata": {},
   "outputs": [],
   "source": [
    "from langchain_core.messages import HumanMessage, SystemMessage\n",
    "message = \"Hello, is Reetu is a Customer name\"\n",
    "input_messages = [HumanMessage(content=message)]\n",
    "\n",
    "result = graph.invoke({\n",
    "            \"messages\": input_messages,\n",
    "            \n",
    "        })\n"
   ]
  },
  {
   "cell_type": "code",
   "execution_count": 46,
   "id": "c4afccc1",
   "metadata": {},
   "outputs": [
    {
     "data": {
      "text/plain": [
       "{'messages': [HumanMessage(content='Hello, is Reetu is a Customer name', additional_kwargs={}, response_metadata={}, id='223086bd-0201-4efc-ac4e-2f8fdb29b211'),\n",
       "  AIMessage(content='', additional_kwargs={'tool_calls': [{'id': 's1hmncxzs', 'function': {'arguments': '{\"query\":\"Is Reetu a Customer name\"}', 'name': 'retrieve'}, 'type': 'function'}]}, response_metadata={'token_usage': {'completion_tokens': 70, 'prompt_tokens': 884, 'total_tokens': 954, 'completion_time': 0.125933391, 'prompt_time': 0.101201918, 'queue_time': 0.265366175, 'total_time': 0.227135309}, 'model_name': 'llama3-8b-8192', 'system_fingerprint': 'fp_8dc6ecaf8e', 'finish_reason': 'tool_calls', 'logprobs': None}, id='run--d1e316f7-0175-4268-8f6b-ef5d352d00c7-0', tool_calls=[{'name': 'retrieve', 'args': {'query': 'Is Reetu a Customer name'}, 'id': 's1hmncxzs', 'type': 'tool_call'}], usage_metadata={'input_tokens': 884, 'output_tokens': 70, 'total_tokens': 954}),\n",
       "  ToolMessage(content=\"Source: {'invoice_id': '397373', 'employee_name': 'Reetu', 'reason': 'The reimbursement request is in compliance with the policy guidelines. The total amount of ₹233 is within the approved limits for travel expenses, and the invoice is supported by the required documentation.', 'date': '10 Sep 2024', 'status': 'accept'}\\nContent: Invoice Content: Original Tax Invoice Driver Trip Invoice Sunil Service Tax Category: Renting of Cab Cab 2F A1341 Invoice ID 397373 Invoice Date 10 Sep 2024 Customer Name Reetu Mobile Number 8901233212 Pickup Address Rajaji Nagar Descri`ption A mount (₹) Ride F ee ₹ 187.46 T oll Convenience f ee ₹ 10 Airpor t Charges ₹ 0 CGST 9.00 % 17.77 SGST 9.00 % 17.77 Subt otal ₹ 233 T otal ₹ 233 Customer Ride F are, Status: accept, Reason: The reimbursement request is in compliance with the policy guidelines. The total amount of ₹233 is within the approved limits for travel expenses, and the invoice is supported by the required documentation.\\n\\nSource: {'employee_name': 'Rani', 'date': '18Jun2024', 'reason': 'The reimbursement request is within the approved limits of ₹150 for daily office cabs as per policy clause 5.2.', 'invoice_id': '123335', 'status': 'accept'}\\nContent: Invoice Content: Original Tax Invoice Driver Trip Invoice Rohit Service Tax Category: Renting of Cab Cab 4KA1233 Invoice ID 123335 Invoice Date 18Jun 2024 Customer Name Rani Mobile Number 8901233212 Pickup Address #12,3r d Lay out Ramamur thy Nagar Description A mount (₹) Ride F ee ₹ 127.12 T oll Convenience f ee ₹ 0 Airpor t Charges ₹ 0 CGST 9.00 % 11.44 SGST 9.00 % 11.44 Subt otal ₹150 T otal ₹150 Customer Ride F are, Status: accept, Reason: The reimbursement request is within the approved limits of ₹150 for daily office cabs as per policy clause 5.2.\", name='retrieve', id='6e9f9d7f-d78f-4888-9e62-4a0cad3fd528', tool_call_id='s1hmncxzs', artifact=[Document(id='f9a45a31-102f-44a7-aba5-33033f6a926c', metadata={'invoice_id': '397373', 'employee_name': 'Reetu', 'reason': 'The reimbursement request is in compliance with the policy guidelines. The total amount of ₹233 is within the approved limits for travel expenses, and the invoice is supported by the required documentation.', 'date': '10 Sep 2024', 'status': 'accept'}, page_content='Invoice Content: Original Tax Invoice Driver Trip Invoice Sunil Service Tax Category: Renting of Cab Cab 2F A1341 Invoice ID 397373 Invoice Date 10 Sep 2024 Customer Name Reetu Mobile Number 8901233212 Pickup Address Rajaji Nagar Descri`ption A mount (₹) Ride F ee ₹ 187.46 T oll Convenience f ee ₹ 10 Airpor t Charges ₹ 0 CGST 9.00 % 17.77 SGST 9.00 % 17.77 Subt otal ₹ 233 T otal ₹ 233 Customer Ride F are, Status: accept, Reason: The reimbursement request is in compliance with the policy guidelines. The total amount of ₹233 is within the approved limits for travel expenses, and the invoice is supported by the required documentation.'), Document(id='fb21ef3a-9444-4a6e-8ac3-0009901e4fbf', metadata={'employee_name': 'Rani', 'date': '18Jun2024', 'reason': 'The reimbursement request is within the approved limits of ₹150 for daily office cabs as per policy clause 5.2.', 'invoice_id': '123335', 'status': 'accept'}, page_content='Invoice Content: Original Tax Invoice Driver Trip Invoice Rohit Service Tax Category: Renting of Cab Cab 4KA1233 Invoice ID 123335 Invoice Date 18Jun 2024 Customer Name Rani Mobile Number 8901233212 Pickup Address #12,3r d Lay out Ramamur thy Nagar Description A mount (₹) Ride F ee ₹ 127.12 T oll Convenience f ee ₹ 0 Airpor t Charges ₹ 0 CGST 9.00 % 11.44 SGST 9.00 % 11.44 Subt otal ₹150 T otal ₹150 Customer Ride F are, Status: accept, Reason: The reimbursement request is within the approved limits of ₹150 for daily office cabs as per policy clause 5.2.')]),\n",
       "  AIMessage(content='Yes, Reetu is a customer name.', additional_kwargs={}, response_metadata={'token_usage': {'completion_tokens': 10, 'prompt_tokens': 548, 'total_tokens': 558, 'completion_time': 0.018234502, 'prompt_time': 0.093679636, 'queue_time': 0.29105916, 'total_time': 0.111914138}, 'model_name': 'llama3-8b-8192', 'system_fingerprint': 'fp_8b7c3a83f7', 'finish_reason': 'stop', 'logprobs': None}, id='run--4dd81b1d-a2a4-4848-b33d-a2e5a724ed38-0', usage_metadata={'input_tokens': 548, 'output_tokens': 10, 'total_tokens': 558})]}"
      ]
     },
     "execution_count": 46,
     "metadata": {},
     "output_type": "execute_result"
    }
   ],
   "source": [
    "result"
   ]
  },
  {
   "cell_type": "code",
   "execution_count": 47,
   "id": "8e5e00e2",
   "metadata": {},
   "outputs": [
    {
     "data": {
      "text/plain": [
       "[AIMessage(content='', additional_kwargs={'tool_calls': [{'id': 's1hmncxzs', 'function': {'arguments': '{\"query\":\"Is Reetu a Customer name\"}', 'name': 'retrieve'}, 'type': 'function'}]}, response_metadata={'token_usage': {'completion_tokens': 70, 'prompt_tokens': 884, 'total_tokens': 954, 'completion_time': 0.125933391, 'prompt_time': 0.101201918, 'queue_time': 0.265366175, 'total_time': 0.227135309}, 'model_name': 'llama3-8b-8192', 'system_fingerprint': 'fp_8dc6ecaf8e', 'finish_reason': 'tool_calls', 'logprobs': None}, id='run--d1e316f7-0175-4268-8f6b-ef5d352d00c7-0', tool_calls=[{'name': 'retrieve', 'args': {'query': 'Is Reetu a Customer name'}, 'id': 's1hmncxzs', 'type': 'tool_call'}], usage_metadata={'input_tokens': 884, 'output_tokens': 70, 'total_tokens': 954}),\n",
       " AIMessage(content='Yes, Reetu is a customer name.', additional_kwargs={}, response_metadata={'token_usage': {'completion_tokens': 10, 'prompt_tokens': 548, 'total_tokens': 558, 'completion_time': 0.018234502, 'prompt_time': 0.093679636, 'queue_time': 0.29105916, 'total_time': 0.111914138}, 'model_name': 'llama3-8b-8192', 'system_fingerprint': 'fp_8b7c3a83f7', 'finish_reason': 'stop', 'logprobs': None}, id='run--4dd81b1d-a2a4-4848-b33d-a2e5a724ed38-0', usage_metadata={'input_tokens': 548, 'output_tokens': 10, 'total_tokens': 558})]"
      ]
     },
     "execution_count": 47,
     "metadata": {},
     "output_type": "execute_result"
    }
   ],
   "source": [
    "ai_messages = [msg for msg in result['messages'] if msg.type == 'ai']\n",
    "ai_messages"
   ]
  },
  {
   "cell_type": "code",
   "execution_count": 57,
   "id": "a3d66e63",
   "metadata": {},
   "outputs": [
    {
     "data": {
      "text/plain": [
       "'{\"response\":\"Yes, Reetu is a customer name.\",\"status\":\"success\",\"details\":null}'"
      ]
     },
     "execution_count": 57,
     "metadata": {},
     "output_type": "execute_result"
    }
   ],
   "source": [
    "from typing import Optional\n",
    "from pydantic import BaseModel\n",
    "import json\n",
    "ai_messages = [msg for msg in result['messages'] if msg.type == 'ai']\n",
    "final_response = ai_messages[-1].content\n",
    "\n",
    "class ChatResponse(BaseModel):\n",
    "    response: str\n",
    "    status: str\n",
    "    details: Optional[str] = None\n",
    "\n",
    "if not ai_messages:\n",
    "    res=ChatResponse(\n",
    "            status=\"error\",\n",
    "            response=\"No response generated by the chatbot\",\n",
    "            details=str(result)\n",
    "        )\n",
    "else:\n",
    "    res= ChatResponse(\n",
    "            status=\"success\",\n",
    "            response=final_response,\n",
    "            metadata=metadata_filter\n",
    "        )\n",
    "\n",
    "res.model_dump_json()"
   ]
  },
  {
   "cell_type": "code",
   "execution_count": 58,
   "id": "049c810d",
   "metadata": {},
   "outputs": [
    {
     "name": "stdout",
     "output_type": "stream",
     "text": [
      "response='Yes, Reetu is a customer name.' status='success' details=None\n"
     ]
    }
   ],
   "source": [
    "print(res)"
   ]
  },
  {
   "cell_type": "code",
   "execution_count": null,
   "id": "a5e5582e",
   "metadata": {},
   "outputs": [],
   "source": []
  }
 ],
 "metadata": {
  "kernelspec": {
   "display_name": "IRSbot",
   "language": "python",
   "name": "python3"
  },
  "language_info": {
   "codemirror_mode": {
    "name": "ipython",
    "version": 3
   },
   "file_extension": ".py",
   "mimetype": "text/x-python",
   "name": "python",
   "nbconvert_exporter": "python",
   "pygments_lexer": "ipython3",
   "version": "3.11.13"
  }
 },
 "nbformat": 4,
 "nbformat_minor": 5
}
